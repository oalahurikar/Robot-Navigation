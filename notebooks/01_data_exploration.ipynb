{
 "cells": [
  {
   "cell_type": "markdown",
   "metadata": {},
   "source": [
    "# 🧠 Data Exploration - Robot Navigation Training Data\n",
    "\n",
    "**Goals:**\n",
    "1. Generate training data with enhanced features (5×5 perception + 12 action history = 37 features)\n",
    "2. Load and inspect dataset\n",
    "3. View sample data examples  \n",
    "4. Analyze key matrix properties\n",
    "5. Examine data distribution\n",
    "\n",
    "**Note:** This notebook supports both 3×3 (21 features) and 5×5 (37 features) perception modes."
   ]
  },
  {
   "cell_type": "code",
   "execution_count": 19,
   "metadata": {},
   "outputs": [
    {
     "name": "stdout",
     "output_type": "stream",
     "text": [
      "✅ All libraries imported successfully!\n"
     ]
    }
   ],
   "source": [
    "# Import Required Libraries\n",
    "import numpy as np\n",
    "import matplotlib.pyplot as plt\n",
    "import subprocess\n",
    "import sys\n",
    "from pathlib import Path\n",
    "\n",
    "# Add project root to path\n",
    "project_root = Path().resolve().parent\n",
    "sys.path.insert(0, str(project_root))\n",
    "\n",
    "from core.data_generation import load_training_data\n",
    "\n",
    "print(\"✅ All libraries imported successfully!\")"
   ]
  },
  {
   "cell_type": "markdown",
   "metadata": {},
   "source": [
    "## Configuration Options\n",
    "\n",
    "**Unified Configuration System:**\n",
    "\n",
    "| Mode | Perception | Features | Config File | Description |\n",
    "|------|------------|----------|-------------|-------------|\n",
    "| **Enhanced 3×3** | 3×3 + history | 21 | `nn_config.yaml` | Standard navigation (76.7%) |\n",
    "| **Enhanced 5×5** | 5×5 + history | 37 | `nn_config.yaml` | Advanced navigation (79.1%) |\n",
    "\n",
    "**Usage with Unified Config:**\n",
    "```bash\n",
    "# Generate datasets\n",
    "python scripts/generate_data.py large                    # 3×3 enhanced (21 features)\n",
    "python scripts/generate_data.py large --perception 5x5   # 5×5 enhanced (37 features)\n",
    "\n",
    "# Train models (auto-configures based on perception mode)\n",
    "python scripts/train_nn.py --perception 3x3              # Uses 3×3 config\n",
    "python scripts/train_nn.py --perception 5x5              # Uses 5×5 config\n",
    "```\n",
    "\n",
    "**Benefits:**\n",
    "- ✅ Single config file for both modes\n",
    "- ✅ Automatic input_size calculation\n",
    "- ✅ No duplicate configuration files\n",
    "- ✅ Easy switching between perception modes\n"
   ]
  },
  {
   "cell_type": "markdown",
   "metadata": {},
   "source": [
    "---\n",
    "## 1. Generate Training Data\n",
    "\n",
    "**Skip this section if data already exists in `data/raw/`**"
   ]
  },
  {
   "cell_type": "code",
   "execution_count": 9,
   "metadata": {},
   "outputs": [
    {
     "data": {
      "text/plain": [
       "'\\nresult = subprocess.run(\\n    [sys.executable, \"scripts/generate_data.py\", \"large\", \"--perception\", \"5x5\"],\\n    cwd=project_root,\\n    capture_output=True,\\n    text=True,\\n    check=True\\n)\\nprint(result.stdout)\\n'"
      ]
     },
     "execution_count": 9,
     "metadata": {},
     "output_type": "execute_result"
    }
   ],
   "source": [
    "# Generate large dataset with 5×5 perception (37 features)\n",
    "# Uncomment to run:\n",
    "\n",
    "\"\"\"\n",
    "result = subprocess.run(\n",
    "    [sys.executable, \"scripts/generate_data.py\", \"large\", \"--perception\", \"5x5\"],\n",
    "    cwd=project_root,\n",
    "    capture_output=True,\n",
    "    text=True,\n",
    "    check=True\n",
    ")\n",
    "print(result.stdout)\n",
    "\"\"\""
   ]
  },
  {
   "cell_type": "markdown",
   "metadata": {},
   "source": [
    "---\n",
    "## 2. Load Dataset"
   ]
  },
  {
   "cell_type": "code",
   "execution_count": 11,
   "metadata": {},
   "outputs": [
    {
     "name": "stdout",
     "output_type": "stream",
     "text": [
      "📂 Training data loaded from ../data/raw/large_training_dataset.npz\n",
      "✅ Dataset loaded successfully!\n",
      "   Training examples: 8580\n",
      "   Environments: 1000\n"
     ]
    }
   ],
   "source": [
    "# Load the training dataset\n",
    "X_train, y_train, metadata = load_training_data(\"../data/raw/large_training_dataset.npz\")\n",
    "\n",
    "print(\"✅ Dataset loaded successfully!\")\n",
    "print(f\"   Training examples: {len(X_train)}\")\n",
    "print(f\"   Environments: {len(metadata)}\")"
   ]
  },
  {
   "cell_type": "markdown",
   "metadata": {},
   "source": [
    "---\n",
    "## 3. Key Matrix Properties"
   ]
  },
  {
   "cell_type": "code",
   "execution_count": 12,
   "metadata": {},
   "outputs": [
    {
     "name": "stdout",
     "output_type": "stream",
     "text": [
      "📊 DATASET PROPERTIES\n",
      "============================================================\n",
      "\n",
      "🔢 Shape & Size:\n",
      "   X_train shape: (8580, 37)\n",
      "   y_train shape: (8580,)\n",
      "   Total samples: 8,580\n",
      "\n",
      "📝 Data Types:\n",
      "   X_train dtype: float32\n",
      "   y_train dtype: int8\n",
      "\n",
      "📏 Value Ranges:\n",
      "   X_train: [0.0, 1.0]\n",
      "   y_train: [0, 3]\n",
      "\n",
      "💾 Memory Usage:\n",
      "   X_train: 1.21 MB\n",
      "   y_train: 0.01 MB\n",
      "   Total: 1.22 MB\n",
      "\n",
      "🧠 Feature Breakdown:\n",
      "   ✅ Enhanced 5×5 Mode: 37 features\n",
      "      • Perception: 25 features (5×5 grid)\n",
      "      • History: 12 features (3 actions × 4 one-hot)\n",
      "\n",
      "🎯 Action Labels:\n",
      "   0: UP\n",
      "   1: DOWN\n",
      "   2: LEFT\n",
      "   3: RIGHT\n"
     ]
    }
   ],
   "source": [
    "# Display key properties\n",
    "print(\"📊 DATASET PROPERTIES\")\n",
    "print(\"=\" * 60)\n",
    "\n",
    "# Shape and size\n",
    "print(f\"\\n🔢 Shape & Size:\")\n",
    "print(f\"   X_train shape: {X_train.shape}\")\n",
    "print(f\"   y_train shape: {y_train.shape}\")\n",
    "print(f\"   Total samples: {len(X_train):,}\")\n",
    "\n",
    "# Data types\n",
    "print(f\"\\n📝 Data Types:\")\n",
    "print(f\"   X_train dtype: {X_train.dtype}\")\n",
    "print(f\"   y_train dtype: {y_train.dtype}\")\n",
    "\n",
    "# Value ranges\n",
    "print(f\"\\n📏 Value Ranges:\")\n",
    "print(f\"   X_train: [{X_train.min():.1f}, {X_train.max():.1f}]\")\n",
    "print(f\"   y_train: [{y_train.min()}, {y_train.max()}]\")\n",
    "\n",
    "# Memory usage\n",
    "x_memory_mb = X_train.nbytes / (1024 * 1024)\n",
    "y_memory_mb = y_train.nbytes / (1024 * 1024)\n",
    "total_memory_mb = x_memory_mb + y_memory_mb\n",
    "print(f\"\\n💾 Memory Usage:\")\n",
    "print(f\"   X_train: {x_memory_mb:.2f} MB\")\n",
    "print(f\"   y_train: {y_memory_mb:.2f} MB\")\n",
    "print(f\"   Total: {total_memory_mb:.2f} MB\")\n",
    "\n",
    "# Feature breakdown\n",
    "feature_count = X_train.shape[1]\n",
    "print(f\"\\n🧠 Feature Breakdown:\")\n",
    "if feature_count == 37:\n",
    "    print(f\"   ✅ Enhanced 5×5 Mode: {feature_count} features\")\n",
    "    print(f\"      • Perception: 25 features (5×5 grid)\")\n",
    "    print(f\"      • History: 12 features (3 actions × 4 one-hot)\")\n",
    "elif feature_count == 21:\n",
    "    print(f\"   ✅ Enhanced 3×3 Mode: {feature_count} features\")\n",
    "    print(f\"      • Perception: 9 features (3×3 grid)\")\n",
    "    print(f\"      • History: 12 features (3 actions × 4 one-hot)\")\n",
    "    print(f\"   ✅ Enhanced Mode: {feature_count} features\")\n",
    "    print(f\"      • Perception: 9 features (3×3 grid)\")\n",
    "    print(f\"      • History: 12 features (3 actions × 4 one-hot)\")\n",
    "elif feature_count == 25:\n",
    "    print(f\"   ⚠️  Basic 5×5 Mode: {feature_count} features (perception only)\")\n",
    "elif feature_count == 9:\n",
    "    print(f\"   ⚠️  Basic 3×3 Mode: {feature_count} features (perception only)\")\n",
    "    print(f\"   ⚠️  Basic Mode: {feature_count} features (perception only)\")\n",
    "else:\n",
    "    print(f\"   ❓ Unknown Mode: {feature_count} features\")\n",
    "\n",
    "# Action labels\n",
    "print(f\"\\n🎯 Action Labels:\")\n",
    "action_names = ['UP', 'DOWN', 'LEFT', 'RIGHT']\n",
    "for i, name in enumerate(action_names):\n",
    "    print(f\"   {i}: {name}\")"
   ]
  },
  {
   "cell_type": "markdown",
   "metadata": {},
   "source": [
    "---\n",
    "## 4. Sample Data Examples"
   ]
  },
  {
   "cell_type": "code",
   "execution_count": 18,
   "metadata": {},
   "outputs": [
    {
     "name": "stdout",
     "output_type": "stream",
     "text": [
      "👁️  SAMPLE TRAINING EXAMPLES\n",
      "============================================================\n",
      "\n",
      "Example 1 (index 1464):\n",
      "  5×5 Perception:\n",
      "    . X . . .\n",
      "    X . . X .\n",
      "    . . . . .\n",
      "    . . X . .\n",
      "    . . . X .\n",
      "  Action History (last 3 actions):\n",
      "    1. DOWN\n",
      "    2. DOWN\n",
      "    3. DOWN\n",
      "  → Action: LEFT\n",
      "\n",
      "Example 2 (index 1725):\n",
      "  5×5 Perception:\n",
      "    X . X . X\n",
      "    . . X . .\n",
      "    X . . . X\n",
      "    X X . . .\n",
      "    X . X X X\n",
      "  Action History (last 3 actions):\n",
      "    1. LEFT\n",
      "    2. DOWN\n",
      "    3. LEFT\n",
      "  → Action: LEFT\n",
      "\n",
      "Example 3 (index 7522):\n",
      "  5×5 Perception:\n",
      "    . . . . X\n",
      "    X X . X X\n",
      "    . . . . .\n",
      "    X . . X .\n",
      "    . . . . .\n",
      "  Action History (last 3 actions):\n",
      "    1. LEFT\n",
      "    2. DOWN\n",
      "    3. DOWN\n",
      "  → Action: RIGHT\n",
      "\n",
      "Example 4 (index 2500):\n",
      "  5×5 Perception:\n",
      "    X X X X X\n",
      "    X X X X X\n",
      "    . . . . X\n",
      "    X . . . X\n",
      "    X . . X X\n",
      "  Action History (last 3 actions):\n",
      "    1. RIGHT\n",
      "    2. RIGHT\n",
      "    3. RIGHT\n",
      "  → Action: DOWN\n",
      "\n",
      "Example 5 (index 6176):\n",
      "  5×5 Perception:\n",
      "    . . . . X\n",
      "    . X . . X\n",
      "    . X . . X\n",
      "    . . . . X\n",
      "    X . X X X\n",
      "  Action History (last 3 actions):\n",
      "    1. RIGHT\n",
      "    2. RIGHT\n",
      "    3. UP\n",
      "  → Action: UP\n"
     ]
    }
   ],
   "source": [
    "# Display sample training examples\n",
    "print(\"👁️  SAMPLE TRAINING EXAMPLES\")\n",
    "print(\"=\" * 60)\n",
    "\n",
    "action_names = ['UP', 'DOWN', 'LEFT', 'RIGHT']\n",
    "num_samples = 5\n",
    "\n",
    "for i in range(num_samples):\n",
    "    sample_idx = np.random.randint(0, len(X_train))\n",
    "    sample_x = X_train[sample_idx]\n",
    "    sample_y = y_train[sample_idx]\n",
    "    \n",
    "    print(f\"\\nExample {i+1} (index {sample_idx}):\")\n",
    "    \n",
    "    # Dynamic feature detection and display\n",
    "    feature_count = X_train.shape[1]\n",
    "    \n",
    "    if feature_count == 37:\n",
    "        # Enhanced 5×5 mode: 25 perception + 12 history\n",
    "        perception = sample_x[:25].reshape(5, 5)\n",
    "        history = sample_x[25:37].reshape(3, 4)\n",
    "        \n",
    "        print(\"  5×5 Perception:\")\n",
    "        for row in perception:\n",
    "            print(f\"    {' '.join(['X' if x > 0 else '.' for x in row])}\")\n",
    "        \n",
    "        print(\"  Action History (last 3 actions):\")\n",
    "        for j, action_vec in enumerate(history):\n",
    "            action_idx = np.argmax(action_vec) if np.sum(action_vec) > 0 else -1\n",
    "            if action_idx >= 0:\n",
    "                print(f\"    {j+1}. {action_names[action_idx]}\")\n",
    "            else:\n",
    "                print(f\"    {j+1}. (no action)\")\n",
    "                \n",
    "    elif feature_count == 21:\n",
    "        # Enhanced 3×3 mode: 9 perception + 12 history\n",
    "        perception = sample_x[:9].reshape(3, 3)\n",
    "        history = sample_x[9:21].reshape(3, 4)\n",
    "        \n",
    "        print(\"  3×3 Perception:\")\n",
    "        for row in perception:\n",
    "            print(f\"    {' '.join(['X' if x > 0 else '.' for x in row])}\")\n",
    "        \n",
    "        print(\"  Action History (last 3 actions):\")\n",
    "        for j, action_vec in enumerate(history):\n",
    "            action_idx = np.argmax(action_vec) if np.sum(action_vec) > 0 else -1\n",
    "            if action_idx >= 0:\n",
    "                print(f\"    {j+1}. {action_names[action_idx]}\")\n",
    "            else:\n",
    "                print(f\"    {j+1}. (no action)\")\n",
    "                \n",
    "    elif feature_count == 25:\n",
    "        # Basic 5×5 mode: perception only\n",
    "        perception = sample_x.reshape(5, 5)\n",
    "        print(\"  5×5 Perception:\")\n",
    "        for row in perception:\n",
    "            print(f\"    {' '.join(['X' if x > 0 else '.' for x in row])}\")\n",
    "            \n",
    "    elif feature_count == 9:\n",
    "        # Basic 3×3 mode: perception only\n",
    "        perception = sample_x.reshape(3, 3)\n",
    "        print(\"  3×3 Perception:\")\n",
    "        for row in perception:\n",
    "            print(f\"    {' '.join(['X' if x > 0 else '.' for x in row])}\")\n",
    "            \n",
    "    else:\n",
    "        print(f\"  Unknown feature format: {feature_count} features\")\n",
    "        print(f\"  Raw features: {sample_x[:10]}...\")  # Show first 10 features\n",
    "    \n",
    "    print(f\"  → Action: {action_names[sample_y]}\")\n"
   ]
  },
  {
   "cell_type": "markdown",
   "metadata": {},
   "source": [
    "---\n",
    "## 5. Data Distribution Analysis"
   ]
  },
  {
   "cell_type": "code",
   "execution_count": 14,
   "metadata": {},
   "outputs": [
    {
     "name": "stdout",
     "output_type": "stream",
     "text": [
      "📊 ACTION DISTRIBUTION\n",
      "============================================================\n",
      "\n",
      "Action Counts:\n",
      "      UP:  2076 ( 24.2%) ████████████\n",
      "    DOWN:  2273 ( 26.5%) █████████████\n",
      "    LEFT:  2169 ( 25.3%) ████████████\n",
      "   RIGHT:  2062 ( 24.0%) ████████████\n",
      "\n",
      "Class Balance:\n",
      "  Imbalance ratio: 1.10\n",
      "  Status: ✅ Balanced\n"
     ]
    }
   ],
   "source": [
    "# Action distribution\n",
    "print(\"📊 ACTION DISTRIBUTION\")\n",
    "print(\"=\" * 60)\n",
    "\n",
    "action_counts = np.bincount(y_train.astype(int))\n",
    "action_names = ['UP', 'DOWN', 'LEFT', 'RIGHT']\n",
    "\n",
    "print(\"\\nAction Counts:\")\n",
    "for name, count in zip(action_names, action_counts):\n",
    "    percentage = (count / len(y_train)) * 100\n",
    "    bar = '█' * int(percentage / 2)\n",
    "    print(f\"  {name:>6}: {count:>5} ({percentage:>5.1f}%) {bar}\")\n",
    "\n",
    "# Class balance\n",
    "max_count = np.max(action_counts)\n",
    "min_count = np.min(action_counts)\n",
    "imbalance_ratio = max_count / min_count\n",
    "print(f\"\\nClass Balance:\")\n",
    "print(f\"  Imbalance ratio: {imbalance_ratio:.2f}\")\n",
    "print(f\"  Status: {'✅ Balanced' if imbalance_ratio < 1.5 else '⚠️  Imbalanced'}\")"
   ]
  },
  {
   "cell_type": "code",
   "execution_count": 15,
   "metadata": {},
   "outputs": [
    {
     "name": "stdout",
     "output_type": "stream",
     "text": [
      "👁️  PERCEPTION STATISTICS\n",
      "============================================================\n",
      "\n",
      "Obstacles per 3×3 view:\n",
      "  Mean: 3.03\n",
      "  Std:  2.07\n",
      "  Min:  0\n",
      "  Max:  9\n",
      "\n",
      "Obstacle count distribution:\n",
      "  0 obstacles:   626 (  7.3%) ███\n",
      "  1 obstacles:  1412 ( 16.5%) ████████\n",
      "  2 obstacles:  1900 ( 22.1%) ███████████\n",
      "  3 obstacles:  1758 ( 20.5%) ██████████\n",
      "  4 obstacles:  1156 ( 13.5%) ██████\n",
      "  5 obstacles:   743 (  8.7%) ████\n",
      "  6 obstacles:   442 (  5.2%) ██\n",
      "  7 obstacles:   170 (  2.0%) \n",
      "  8 obstacles:    48 (  0.6%) \n",
      "  9 obstacles:   325 (  3.8%) █\n"
     ]
    }
   ],
   "source": [
    "# Perception statistics (dynamic based on feature count)\n",
    "print(\"👁️  PERCEPTION STATISTICS\")\n",
    "print(\"=\" * 60)\n",
    "\n",
    "# Determine perception size dynamically\n",
    "feature_count = X_train.shape[1]\n",
    "if feature_count == 37:\n",
    "    perception_size = 25  # 5×5\n",
    "    perception_desc = \"5×5\"\n",
    "elif feature_count == 21:\n",
    "    perception_size = 9   # 3×3\n",
    "    perception_desc = \"3×3\"\n",
    "elif feature_count == 25:\n",
    "    perception_size = 25  # 5×5 basic\n",
    "    perception_desc = \"5×5\"\n",
    "elif feature_count == 9:\n",
    "    perception_size = 9   # 3×3 basic\n",
    "    perception_desc = \"3×3\"\n",
    "else:\n",
    "    perception_size = min(feature_count, 25)  # Default to max possible\n",
    "    perception_desc = f\"{int(perception_size**0.5)}×{int(perception_size**0.5)}\"\n",
    "\n",
    "print(f\"\\nAnalyzing {perception_desc} perception ({perception_size} features):\")\n",
    "\n",
    "# Extract perception features\n",
    "perception_features = X_train[:, :perception_size]\n",
    "obstacles_per_view = np.sum(perception_features, axis=1)\n",
    "\n",
    "print(f\"\\nObstacles per {perception_desc} view:\")\n",
    "print(f\"  Mean: {np.mean(obstacles_per_view):.2f}\")\n",
    "print(f\"  Std:  {np.std(obstacles_per_view):.2f}\")\n",
    "print(f\"  Min:  {np.min(obstacles_per_view):.0f}\")\n",
    "print(f\"  Max:  {np.max(obstacles_per_view):.0f}\")\n",
    "\n",
    "print(f\"\\nObstacle count distribution:\")\n",
    "obstacle_counts = np.bincount(obstacles_per_view.astype(int))\n",
    "for i, count in enumerate(obstacle_counts):\n",
    "    if count > 0:\n",
    "        percentage = (count / len(X_train)) * 100\n",
    "        bar = '█' * int(percentage / 2)\n",
    "        print(f\"  {i} obstacles: {count:>5} ({percentage:>5.1f}%) {bar}\")\n"
   ]
  },
  {
   "cell_type": "code",
   "execution_count": 16,
   "metadata": {},
   "outputs": [
    {
     "data": {
      "image/png": "[encoded data removed]",
      "text/plain": [
       "<Figure size 1500x400 with 3 Axes>"
      ]
     },
     "metadata": {},
     "output_type": "display_data"
    },
    {
     "name": "stdout",
     "output_type": "stream",
     "text": [
      "\n",
      "✅ Data exploration complete!\n"
     ]
    }
   ],
   "source": [
    "# Visualization: Action and Perception Distribution\n",
    "fig, axes = plt.subplots(1, 3, figsize=(15, 4))\n",
    "\n",
    "# Action distribution\n",
    "axes[0].bar(action_names, action_counts, color='steelblue')\n",
    "axes[0].set_title('Action Distribution')\n",
    "axes[0].set_ylabel('Count')\n",
    "axes[0].set_xlabel('Action')\n",
    "\n",
    "# Action percentages\n",
    "axes[1].pie(action_counts, labels=action_names, autopct='%1.1f%%', startangle=90)\n",
    "axes[1].set_title('Action Percentages')\n",
    "\n",
    "# Obstacles per view histogram\n",
    "axes[2].hist(obstacles_per_view, bins=range(int(np.max(obstacles_per_view))+2), \n",
    "             alpha=0.7, color='coral', edgecolor='black')\n",
    "axes[2].set_title('Obstacles per 3×3 View')\n",
    "axes[2].set_xlabel('Number of Obstacles')\n",
    "axes[2].set_ylabel('Frequency')\n",
    "\n",
    "plt.tight_layout()\n",
    "plt.show()\n",
    "\n",
    "print(\"\\n✅ Data exploration complete!\")"
   ]
  },
  {
   "cell_type": "markdown",
   "metadata": {},
   "source": [
    "---\n",
    "## Summary\n",
    "\n",
    "**Dataset Ready for Training:**\n",
    "- ✅ Enhanced features (21: perception + history)\n",
    "- ✅ Balanced action distribution\n",
    "- ✅ Diverse obstacle patterns\n",
    "- ✅ High-quality training examples\n",
    "\n",
    "**Next Step:** Train neural network with this enhanced dataset"
   ]
  }
 ],
 "metadata": {
  "kernelspec": {
   "display_name": ".venv",
   "language": "python",
   "name": "python3"
  },
  "language_info": {
   "codemirror_mode": {
    "name": "ipython",
    "version": 3
   },
   "file_extension": ".py",
   "mimetype": "text/x-python",
   "name": "python",
   "nbconvert_exporter": "python",
   "pygments_lexer": "ipython3",
   "version": "3.13.2"
  }
 },
 "nbformat": 4,
 "nbformat_minor": 2
}
