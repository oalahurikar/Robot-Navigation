{
 "cells": [
  {
   "cell_type": "markdown",
   "metadata": {},
   "source": [
    "# 🧠 Data Exploration - Robot Navigation Training Data\n",
    "\n",
    "**Goals:**\n",
    "1. Generate training data with enhanced features (9 perception + 12 action history)\n",
    "2. Load and inspect dataset\n",
    "3. View sample data examples\n",
    "4. Analyze key matrix properties\n",
    "5. Examine data distribution"
   ]
  },
  {
   "cell_type": "code",
   "execution_count": 10,
   "metadata": {},
   "outputs": [
    {
     "name": "stdout",
     "output_type": "stream",
     "text": [
      "✅ All libraries imported successfully!\n"
     ]
    }
   ],
   "source": [
    "# Import Required Libraries\n",
    "import numpy as np\n",
    "import matplotlib.pyplot as plt\n",
    "import subprocess\n",
    "import sys\n",
    "from pathlib import Path\n",
    "\n",
    "# Add project root to path\n",
    "project_root = Path().resolve().parent\n",
    "sys.path.insert(0, str(project_root))\n",
    "\n",
    "from core.data_generation import load_training_data\n",
    "\n",
    "print(\"✅ All libraries imported successfully!\")"
   ]
  },
  {
   "cell_type": "markdown",
   "metadata": {},
   "source": [
    "---\n",
    "## 1. Generate Training Data\n",
    "\n",
    "**Skip this section if data already exists in `data/raw/`**"
   ]
  },
  {
   "cell_type": "code",
   "execution_count": 11,
   "metadata": {},
   "outputs": [
    {
     "data": {
      "text/plain": [
       "'\\nresult = subprocess.run(\\n    [sys.executable, \"scripts/generate_data.py\", \"large\"],\\n    cwd=project_root,\\n    capture_output=True,\\n    text=True,\\n    check=True\\n)\\nprint(result.stdout)\\n'"
      ]
     },
     "execution_count": 11,
     "metadata": {},
     "output_type": "execute_result"
    }
   ],
   "source": [
    "# Generate large dataset with enhanced features (21 features)\n",
    "# Uncomment to run:\n",
    "\n",
    "\"\"\"\n",
    "result = subprocess.run(\n",
    "    [sys.executable, \"scripts/generate_data.py\", \"large\"],\n",
    "    cwd=project_root,\n",
    "    capture_output=True,\n",
    "    text=True,\n",
    "    check=True\n",
    ")\n",
    "print(result.stdout)\n",
    "\"\"\""
   ]
  },
  {
   "cell_type": "markdown",
   "metadata": {},
   "source": [
    "---\n",
    "## 2. Load Dataset"
   ]
  },
  {
   "cell_type": "code",
   "execution_count": 12,
   "metadata": {},
   "outputs": [
    {
     "name": "stdout",
     "output_type": "stream",
     "text": [
      "📂 Training data loaded from ../data/raw/large_training_dataset.npz\n",
      "✅ Dataset loaded successfully!\n",
      "   Training examples: 8664\n",
      "   Environments: 1000\n"
     ]
    }
   ],
   "source": [
    "# Load the training dataset\n",
    "X_train, y_train, metadata = load_training_data(\"../data/raw/large_training_dataset.npz\")\n",
    "\n",
    "print(\"✅ Dataset loaded successfully!\")\n",
    "print(f\"   Training examples: {len(X_train)}\")\n",
    "print(f\"   Environments: {len(metadata)}\")"
   ]
  },
  {
   "cell_type": "markdown",
   "metadata": {},
   "source": [
    "---\n",
    "## 3. Key Matrix Properties"
   ]
  },
  {
   "cell_type": "code",
   "execution_count": 13,
   "metadata": {},
   "outputs": [
    {
     "name": "stdout",
     "output_type": "stream",
     "text": [
      "📊 DATASET PROPERTIES\n",
      "============================================================\n",
      "\n",
      "🔢 Shape & Size:\n",
      "   X_train shape: (8664, 21)\n",
      "   y_train shape: (8664,)\n",
      "   Total samples: 8,664\n",
      "\n",
      "📝 Data Types:\n",
      "   X_train dtype: float32\n",
      "   y_train dtype: int8\n",
      "\n",
      "📏 Value Ranges:\n",
      "   X_train: [0.0, 1.0]\n",
      "   y_train: [0, 3]\n",
      "\n",
      "💾 Memory Usage:\n",
      "   X_train: 0.69 MB\n",
      "   y_train: 0.01 MB\n",
      "   Total: 0.70 MB\n",
      "\n",
      "🧠 Feature Breakdown:\n",
      "   ✅ Enhanced Mode: 21 features\n",
      "      • Perception: 9 features (3×3 grid)\n",
      "      • History: 12 features (3 actions × 4 one-hot)\n",
      "\n",
      "🎯 Action Labels:\n",
      "   0: UP\n",
      "   1: DOWN\n",
      "   2: LEFT\n",
      "   3: RIGHT\n"
     ]
    }
   ],
   "source": [
    "# Display key properties\n",
    "print(\"📊 DATASET PROPERTIES\")\n",
    "print(\"=\" * 60)\n",
    "\n",
    "# Shape and size\n",
    "print(f\"\\n🔢 Shape & Size:\")\n",
    "print(f\"   X_train shape: {X_train.shape}\")\n",
    "print(f\"   y_train shape: {y_train.shape}\")\n",
    "print(f\"   Total samples: {len(X_train):,}\")\n",
    "\n",
    "# Data types\n",
    "print(f\"\\n📝 Data Types:\")\n",
    "print(f\"   X_train dtype: {X_train.dtype}\")\n",
    "print(f\"   y_train dtype: {y_train.dtype}\")\n",
    "\n",
    "# Value ranges\n",
    "print(f\"\\n📏 Value Ranges:\")\n",
    "print(f\"   X_train: [{X_train.min():.1f}, {X_train.max():.1f}]\")\n",
    "print(f\"   y_train: [{y_train.min()}, {y_train.max()}]\")\n",
    "\n",
    "# Memory usage\n",
    "x_memory_mb = X_train.nbytes / (1024 * 1024)\n",
    "y_memory_mb = y_train.nbytes / (1024 * 1024)\n",
    "total_memory_mb = x_memory_mb + y_memory_mb\n",
    "print(f\"\\n💾 Memory Usage:\")\n",
    "print(f\"   X_train: {x_memory_mb:.2f} MB\")\n",
    "print(f\"   y_train: {y_memory_mb:.2f} MB\")\n",
    "print(f\"   Total: {total_memory_mb:.2f} MB\")\n",
    "\n",
    "# Feature breakdown\n",
    "feature_count = X_train.shape[1]\n",
    "print(f\"\\n🧠 Feature Breakdown:\")\n",
    "if feature_count == 21:\n",
    "    print(f\"   ✅ Enhanced Mode: {feature_count} features\")\n",
    "    print(f\"      • Perception: 9 features (3×3 grid)\")\n",
    "    print(f\"      • History: 12 features (3 actions × 4 one-hot)\")\n",
    "elif feature_count == 9:\n",
    "    print(f\"   ⚠️  Basic Mode: {feature_count} features (perception only)\")\n",
    "else:\n",
    "    print(f\"   ❓ Unknown Mode: {feature_count} features\")\n",
    "\n",
    "# Action labels\n",
    "print(f\"\\n🎯 Action Labels:\")\n",
    "action_names = ['UP', 'DOWN', 'LEFT', 'RIGHT']\n",
    "for i, name in enumerate(action_names):\n",
    "    print(f\"   {i}: {name}\")"
   ]
  },
  {
   "cell_type": "markdown",
   "metadata": {},
   "source": [
    "---\n",
    "## 4. Sample Data Examples"
   ]
  },
  {
   "cell_type": "code",
   "execution_count": 14,
   "metadata": {},
   "outputs": [
    {
     "name": "stdout",
     "output_type": "stream",
     "text": [
      "👁️  SAMPLE TRAINING EXAMPLES\n",
      "============================================================\n",
      "\n",
      "Example 1 (index 7279):\n",
      "  3×3 Perception:\n",
      "    . X .\n",
      "    . . .\n",
      "    . . X\n",
      "  Action History:\n",
      "    1. RIGHT\n",
      "    2. RIGHT\n",
      "    3. RIGHT\n",
      "  → Action: RIGHT\n",
      "\n",
      "Example 2 (index 1171):\n",
      "  3×3 Perception:\n",
      "    . . X\n",
      "    . . X\n",
      "    . . X\n",
      "  Action History:\n",
      "    1. RIGHT\n",
      "    2. RIGHT\n",
      "    3. DOWN\n",
      "  → Action: DOWN\n",
      "\n",
      "Example 3 (index 4254):\n",
      "  3×3 Perception:\n",
      "    X . X\n",
      "    X . .\n",
      "    . . .\n",
      "  Action History:\n",
      "    1. RIGHT\n",
      "    2. RIGHT\n",
      "    3. UP\n",
      "  → Action: UP\n",
      "\n",
      "Example 4 (index 6548):\n",
      "  3×3 Perception:\n",
      "    . X .\n",
      "    . . .\n",
      "    X . .\n",
      "  Action History:\n",
      "    1. DOWN\n",
      "    2. RIGHT\n",
      "    3. RIGHT\n",
      "  → Action: DOWN\n",
      "\n",
      "Example 5 (index 1889):\n",
      "  3×3 Perception:\n",
      "    . . .\n",
      "    . . .\n",
      "    . . X\n",
      "  Action History:\n",
      "    1. RIGHT\n",
      "    2. RIGHT\n",
      "    3. RIGHT\n",
      "  → Action: RIGHT\n"
     ]
    }
   ],
   "source": [
    "# Display sample training examples\n",
    "print(\"👁️  SAMPLE TRAINING EXAMPLES\")\n",
    "print(\"=\" * 60)\n",
    "\n",
    "action_names = ['UP', 'DOWN', 'LEFT', 'RIGHT']\n",
    "num_samples = 5\n",
    "\n",
    "for i in range(num_samples):\n",
    "    sample_idx = np.random.randint(0, len(X_train))\n",
    "    sample_x = X_train[sample_idx]\n",
    "    sample_y = y_train[sample_idx]\n",
    "    \n",
    "    print(f\"\\nExample {i+1} (index {sample_idx}):\")\n",
    "    \n",
    "    if X_train.shape[1] == 21:\n",
    "        # Enhanced mode: show perception + history\n",
    "        perception = sample_x[:9].reshape(3, 3)\n",
    "        history = sample_x[9:21].reshape(3, 4)\n",
    "        \n",
    "        print(\"  3×3 Perception:\")\n",
    "        for row in perception:\n",
    "            print(f\"    {' '.join(['X' if x > 0 else '.' for x in row])}\")\n",
    "        \n",
    "        print(\"  Action History:\")\n",
    "        for j, action_vec in enumerate(history):\n",
    "            action_idx = np.argmax(action_vec) if np.sum(action_vec) > 0 else -1\n",
    "            if action_idx >= 0:\n",
    "                print(f\"    {j+1}. {action_names[action_idx]}\")\n",
    "            else:\n",
    "                print(f\"    {j+1}. (no action)\")\n",
    "    else:\n",
    "        # Basic mode: show perception only\n",
    "        perception = sample_x.reshape(3, 3)\n",
    "        print(\"  3×3 Perception:\")\n",
    "        for row in perception:\n",
    "            print(f\"    {' '.join(['X' if x > 0 else '.' for x in row])}\")\n",
    "    \n",
    "    print(f\"  → Action: {action_names[sample_y]}\")"
   ]
  },
  {
   "cell_type": "markdown",
   "metadata": {},
   "source": [
    "---\n",
    "## 5. Data Distribution Analysis"
   ]
  },
  {
   "cell_type": "code",
   "execution_count": 15,
   "metadata": {},
   "outputs": [
    {
     "name": "stdout",
     "output_type": "stream",
     "text": [
      "📊 ACTION DISTRIBUTION\n",
      "============================================================\n",
      "\n",
      "Action Counts:\n",
      "      UP:  2247 ( 25.9%) ████████████\n",
      "    DOWN:  2088 ( 24.1%) ████████████\n",
      "    LEFT:  2110 ( 24.4%) ████████████\n",
      "   RIGHT:  2219 ( 25.6%) ████████████\n",
      "\n",
      "Class Balance:\n",
      "  Imbalance ratio: 1.08\n",
      "  Status: ✅ Balanced\n"
     ]
    }
   ],
   "source": [
    "# Action distribution\n",
    "print(\"📊 ACTION DISTRIBUTION\")\n",
    "print(\"=\" * 60)\n",
    "\n",
    "action_counts = np.bincount(y_train.astype(int))\n",
    "action_names = ['UP', 'DOWN', 'LEFT', 'RIGHT']\n",
    "\n",
    "print(\"\\nAction Counts:\")\n",
    "for name, count in zip(action_names, action_counts):\n",
    "    percentage = (count / len(y_train)) * 100\n",
    "    bar = '█' * int(percentage / 2)\n",
    "    print(f\"  {name:>6}: {count:>5} ({percentage:>5.1f}%) {bar}\")\n",
    "\n",
    "# Class balance\n",
    "max_count = np.max(action_counts)\n",
    "min_count = np.min(action_counts)\n",
    "imbalance_ratio = max_count / min_count\n",
    "print(f\"\\nClass Balance:\")\n",
    "print(f\"  Imbalance ratio: {imbalance_ratio:.2f}\")\n",
    "print(f\"  Status: {'✅ Balanced' if imbalance_ratio < 1.5 else '⚠️  Imbalanced'}\")"
   ]
  },
  {
   "cell_type": "code",
   "execution_count": 16,
   "metadata": {},
   "outputs": [
    {
     "name": "stdout",
     "output_type": "stream",
     "text": [
      "👁️  PERCEPTION STATISTICS\n",
      "============================================================\n",
      "\n",
      "Obstacles per 3×3 view:\n",
      "  Mean: 2.26\n",
      "  Std:  1.41\n",
      "  Min:  0\n",
      "  Max:  7\n",
      "\n",
      "Obstacle count distribution:\n",
      "  0 obstacles:   790 (  9.1%) ████\n",
      "  1 obstacles:  2109 ( 24.3%) ████████████\n",
      "  2 obstacles:  2309 ( 26.7%) █████████████\n",
      "  3 obstacles:  1711 ( 19.7%) █████████\n",
      "  4 obstacles:  1161 ( 13.4%) ██████\n",
      "  5 obstacles:   468 (  5.4%) ██\n",
      "  6 obstacles:   113 (  1.3%) \n",
      "  7 obstacles:     3 (  0.0%) \n"
     ]
    }
   ],
   "source": [
    "# Perception statistics (first 9 features are always perception)\n",
    "print(\"👁️  PERCEPTION STATISTICS\")\n",
    "print(\"=\" * 60)\n",
    "\n",
    "perception_features = X_train[:, :9]\n",
    "obstacles_per_view = np.sum(perception_features, axis=1)\n",
    "\n",
    "print(f\"\\nObstacles per 3×3 view:\")\n",
    "print(f\"  Mean: {np.mean(obstacles_per_view):.2f}\")\n",
    "print(f\"  Std:  {np.std(obstacles_per_view):.2f}\")\n",
    "print(f\"  Min:  {np.min(obstacles_per_view):.0f}\")\n",
    "print(f\"  Max:  {np.max(obstacles_per_view):.0f}\")\n",
    "\n",
    "print(f\"\\nObstacle count distribution:\")\n",
    "obstacle_counts = np.bincount(obstacles_per_view.astype(int))\n",
    "for i, count in enumerate(obstacle_counts):\n",
    "    if count > 0:\n",
    "        percentage = (count / len(X_train)) * 100\n",
    "        bar = '█' * int(percentage / 2)\n",
    "        print(f\"  {i} obstacles: {count:>5} ({percentage:>5.1f}%) {bar}\")"
   ]
  },
  {
   "cell_type": "code",
   "execution_count": 17,
   "metadata": {},
   "outputs": [
    {
     "data": {
      "image/png": "[encoded data removed]",
      "text/plain": [
       "<Figure size 1500x400 with 3 Axes>"
      ]
     },
     "metadata": {},
     "output_type": "display_data"
    },
    {
     "name": "stdout",
     "output_type": "stream",
     "text": [
      "\n",
      "✅ Data exploration complete!\n"
     ]
    }
   ],
   "source": [
    "# Visualization: Action and Perception Distribution\n",
    "fig, axes = plt.subplots(1, 3, figsize=(15, 4))\n",
    "\n",
    "# Action distribution\n",
    "axes[0].bar(action_names, action_counts, color='steelblue')\n",
    "axes[0].set_title('Action Distribution')\n",
    "axes[0].set_ylabel('Count')\n",
    "axes[0].set_xlabel('Action')\n",
    "\n",
    "# Action percentages\n",
    "axes[1].pie(action_counts, labels=action_names, autopct='%1.1f%%', startangle=90)\n",
    "axes[1].set_title('Action Percentages')\n",
    "\n",
    "# Obstacles per view histogram\n",
    "axes[2].hist(obstacles_per_view, bins=range(int(np.max(obstacles_per_view))+2), \n",
    "             alpha=0.7, color='coral', edgecolor='black')\n",
    "axes[2].set_title('Obstacles per 3×3 View')\n",
    "axes[2].set_xlabel('Number of Obstacles')\n",
    "axes[2].set_ylabel('Frequency')\n",
    "\n",
    "plt.tight_layout()\n",
    "plt.show()\n",
    "\n",
    "print(\"\\n✅ Data exploration complete!\")"
   ]
  },
  {
   "cell_type": "markdown",
   "metadata": {},
   "source": [
    "---\n",
    "## Summary\n",
    "\n",
    "**Dataset Ready for Training:**\n",
    "- ✅ Enhanced features (21: perception + history)\n",
    "- ✅ Balanced action distribution\n",
    "- ✅ Diverse obstacle patterns\n",
    "- ✅ High-quality training examples\n",
    "\n",
    "**Next Step:** Train neural network with this enhanced dataset"
   ]
  }
 ],
 "metadata": {
  "kernelspec": {
   "display_name": "Python 3",
   "language": "python",
   "name": "python3"
  },
  "language_info": {
   "name": "python",
   "version": "3.11.0"
  }
 },
 "nbformat": 4,
 "nbformat_minor": 2
}
